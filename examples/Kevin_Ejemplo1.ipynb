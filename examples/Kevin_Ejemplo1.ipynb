{
 "cells": [
  {
   "cell_type": "code",
   "execution_count": 179,
   "metadata": {},
   "outputs": [],
   "source": [
    "%run difraciones.py #Cargar las librerias"
   ]
  },
  {
   "cell_type": "code",
   "execution_count": 180,
   "metadata": {},
   "outputs": [],
   "source": [
    "import matplotlib\n",
    "#matplotlib.use('Qt4Agg')\n",
    "import matplotlib.pyplot as p\n",
    "from time import time\n",
    "#p.switch_backend('QtAgg4')\n",
    "%matplotlib qt\n",
    "#Figuras fuera del notebook"
   ]
  },
  {
   "cell_type": "raw",
   "metadata": {},
   "source": [
    "# Definiendo parametros iniciales"
   ]
  },
  {
   "cell_type": "markdown",
   "metadata": {},
   "source": [
    "Este código requiere importar:\n",
    "numpy, matplotlib, pandas, time y Jupyter Notebook\n",
    "\n",
    "Los archivos incluidos son:\n",
    "difraciones.py --> contiene la libreria (funciones) para ejecutar el simulador\n",
    "estrellas.dat --> contiene datos propios del tipo espectral de la estrella: luminosidad, temperatura y magnitud absoluta.\n",
    "listadat.txt --> contiene en forma ordenada el nombre del archivo que describe la convolucion del filtro y la emision espectral de la estrella (Ojo para TAOS-1)\n",
    "folder \"spectra\" --> contiene todos los archivos de convoluciones  de la emision estelar y el filtro de TAOS-1 "
   ]
  },
  {
   "cell_type": "code",
   "execution_count": 279,
   "metadata": {},
   "outputs": [],
   "source": [
    "#Parametros basicos para el calculo\n",
    "M=2**12 # Tamano de la malla en [px] 2048\n",
    "lamb=600e-9 # Long de onda en [m]\n",
    "\n",
    "\n",
    "#Parametros de la observacion (conocidos a Priori)\n",
    "vE=29800 # velocidad de traslacion de la tierra  en m/s\n",
    "vr=5000 #velocidad del cuerpo Pos si va en contra de la direccion de la tierra\n",
    "ang=30 #angulo desde oposicion para calcular velocidad tangencial del objeto\n",
    "fps=20 #frames por segundo\n",
    "mV=12 # Magnitud aparente de la estrella\n",
    "nEst=30 #Seleccion de tipo espectral de estrella\n",
    "#A0=1;A1=2;A2=3;A3=4;A4=5;A5=6;A7=7;F0=8;F2=9;F3=10;F5=11;F6=12;F7=13;F8=14\n",
    "#G0=15;G1=16;G2=17;G5=18;G8=19;K0=20;K1=21;K2=22;K3=23;K4=24;K5=25;K7=26;\n",
    "#M0=27;M1=28;M2=29;M3=30;M4=31;M5=32;M6=33;M7=34;M8=35\n",
    "nLamb=10 # Num de longitudes de onda a considerar para el calculo espectral spectra()\n",
    "\n",
    "\n",
    "#Parametros del evento de ocultacion (desconocidos) incluir d\n",
    "d=3000 # Diam del objeto en [m]\n",
    "ua=45 #Distancia del objeto en unidades astronómicas\n",
    "D=calc_plano(d,lamb,ua) #Tamano del plano total en [m]\n",
    "toffset=0 #en pixeles\n",
    "T=0 # direccion de lectura en grados\n",
    "b=0 # Parametro de impacto en metros"
   ]
  },
  {
   "cell_type": "code",
   "execution_count": 38,
   "metadata": {},
   "outputs": [
    {
     "data": {
      "text/plain": [
       "126814.825631706"
      ]
     },
     "execution_count": 38,
     "metadata": {},
     "output_type": "execute_result"
    }
   ],
   "source": [
    "D"
   ]
  },
  {
   "cell_type": "markdown",
   "metadata": {},
   "source": [
    "CALCULOS INICIALES PARA DEFINIR OBJETOS Y SU PATRON DE DIFRACCION BASICO"
   ]
  },
  {
   "cell_type": "code",
   "execution_count": 280,
   "metadata": {},
   "outputs": [
    {
     "data": {
      "text/plain": [
       "5.932967662811279"
      ]
     },
     "execution_count": 280,
     "metadata": {},
     "output_type": "execute_result"
    }
   ],
   "source": [
    "inicio=time()\n",
    "#Definiendo objetos\n",
    "O1=pupilCO(M,D,d) #Objeto 1: circular\n",
    "O2=pupil_doble(M,D,d) #Objeto 2: contact binary\n",
    "z=1.496e11*ua #Distancia del objeto en [m]\n",
    "I1=fresnel(O1,M,D,z,lamb) #Patron 1 de difraccion monocromatico con fuente puntual\n",
    "I2=fresnel(O2,M,D,z,lamb) #Patron 2 de difraccion monocromatico con fuente puntual\n",
    "#I0=add_ruido(I0,mV)\n",
    "time()-inicio"
   ]
  },
  {
   "cell_type": "code",
   "execution_count": null,
   "metadata": {
    "collapsed": true
   },
   "outputs": [],
   "source": [
    "\n",
    "GRAFICAR RESULTADOS"
   ]
  },
  {
   "cell_type": "code",
   "execution_count": 281,
   "metadata": {},
   "outputs": [
    {
     "data": {
      "text/plain": [
       "Text(0.5, 1.0, 'Diffraction pattern, contact binary')"
      ]
     },
     "execution_count": 281,
     "metadata": {},
     "output_type": "execute_result"
    }
   ],
   "source": [
    "#Objeto Circular\n",
    "Lims=20 #lims in km\n",
    "p.figure(1)\n",
    "p.clf()\n",
    "#Ojo el tamaño del plano es D, va de -D/2 hasta D/2\n",
    "#en km debe ser -D/2000  hasta D/2000\n",
    "p.imshow(O1,extent=[-D/2000,D/2000,-D/2000,D/2000])\n",
    "p.xlabel('Distance [km]')\n",
    "p.ylabel('Distance [km]')\n",
    "p.xlim([-2*d/1000,2*d/1000])\n",
    "p.ylim([-2*d/1000,2*d/1000])\n",
    "p.gray()\n",
    "p.title('Circular Object')\n",
    "\n",
    "p.figure(2)\n",
    "p.clf()\n",
    "p.imshow(I1,extent=[-D/2000,D/2000,-D/2000,D/2000])\n",
    "p.gray()\n",
    "p.xlabel('Distance [km]')\n",
    "p.ylabel('Distance [km]')\n",
    "p.xlim([-Lims,Lims])\n",
    "p.ylim([-Lims,Lims])\n",
    "p.title('Diffraction pattern, circular object')\n",
    "\n",
    "#Objeto no circular\n",
    "p.figure(3)\n",
    "p.clf()\n",
    "p.imshow(O2,extent=[-D/2000,D/2000,-D/2000,D/2000])\n",
    "p.xlabel('Distance [km]')\n",
    "p.ylabel('Distance [km]')\n",
    "p.xlim([-2*d/1000,2*d/1000])\n",
    "p.ylim([-2*d/1000,2*d/1000])\n",
    "p.gray()\n",
    "p.title('Contact binary')\n",
    "\n",
    "p.figure(4)\n",
    "p.clf()\n",
    "p.imshow(I2,extent=[-D/2000,D/2000,-D/2000,D/2000])\n",
    "p.gray()\n",
    "p.xlabel('Distance [km]')\n",
    "p.ylabel('Distance [km]')\n",
    "p.xlim([-Lims,Lims])\n",
    "p.ylim([-Lims,Lims])\n",
    "p.title('Diffraction pattern, contact binary')"
   ]
  },
  {
   "cell_type": "code",
   "execution_count": 17,
   "metadata": {},
   "outputs": [],
   "source": [
    "p.show()"
   ]
  },
  {
   "cell_type": "code",
   "execution_count": 289,
   "metadata": {},
   "outputs": [
    {
     "data": {
      "text/plain": [
       "49.32372069358826"
      ]
     },
     "execution_count": 289,
     "metadata": {},
     "output_type": "execute_result"
    }
   ],
   "source": [
    "#CALCULAR PATRON CON CONTRIBUCION ESPECTRAL y GRAFICAR\n",
    "inicio=time()\n",
    "z=1.496e11*ua #Distancia del objeto en [m]\n",
    "I1s=spectra(O1,M,D,z,nEst,nLamb)#Esta funcion calcula el patron cromatico\n",
    "I2s=spectra(O2,M,D,z,nEst,nLamb)#binary\n",
    "\n",
    "time()-inicio"
   ]
  },
  {
   "cell_type": "code",
   "execution_count": 283,
   "metadata": {},
   "outputs": [
    {
     "data": {
      "text/plain": [
       "Text(0.5, 1.0, 'Chromatic diffraction pattern, binary: M3, Longs. Onda: 10')"
      ]
     },
     "execution_count": 283,
     "metadata": {},
     "output_type": "execute_result"
    }
   ],
   "source": [
    "tipo,R_star=calc_rstar(mV,nEst,ua)#Funcion para calcular el radio y tipo de la estrella usa estrellas.dat\n",
    "p.figure(5)\n",
    "p.clf()\n",
    "p.imshow(I1s,extent=[-D/2000,D/2000,-D/2000,D/2000])\n",
    "p.gray()\n",
    "p.xlabel('Distance [km]')\n",
    "p.ylabel('Distance [km]')\n",
    "p.xlim([-Lims,Lims])\n",
    "p.ylim([-Lims,Lims])\n",
    "p.title('Chromatic diffraction pattern, circular: '+tipo+', Longs. Onda: '+np.str(np.round(nLamb))) \n",
    "\n",
    "p.figure(6)\n",
    "p.clf()\n",
    "p.imshow(I2s,extent=[-D/2000,D/2000,-D/2000,D/2000])\n",
    "p.gray()\n",
    "p.xlabel('Distance [km]')\n",
    "p.ylabel('Distance [km]')\n",
    "p.xlim([-Lims,Lims])\n",
    "p.ylim([-Lims,Lims])\n",
    "p.title('Chromatic diffraction pattern, binary: '+tipo+', Longs. Onda: '+np.str(np.round(nLamb)))\n",
    "#time()-inicio\n",
    "#print(D)\n",
    "#np.save('CB_D3_pattern_D142112.npy', I1s)"
   ]
  },
  {
   "cell_type": "code",
   "execution_count": 290,
   "metadata": {},
   "outputs": [
    {
     "data": {
      "text/plain": [
       "12.525768041610718"
      ]
     },
     "execution_count": 290,
     "metadata": {},
     "output_type": "execute_result"
    }
   ],
   "source": [
    "#CALCULAR PATRON PARA FUENTE EXTENDIDA\n",
    "inicio=time()\n",
    "z=1.496e11*ua #Distancia del objeto en [m]\n",
    "tipo,R_star=calc_rstar(mV,nEst,ua)#Funcion para calcular el radio de la estrella usa estrellas.dat\n",
    "I1f=promedio_PD(I1s,R_star,D,M,d) #Funcion para calcular contribucion de fuente extendida\n",
    "I2f=promedio_PD(I2s,R_star,D,M,d) #Binario\n",
    "time()-inicio"
   ]
  },
  {
   "cell_type": "code",
   "execution_count": 229,
   "metadata": {},
   "outputs": [
    {
     "data": {
      "text/plain": [
       "('G0', 132.26158688688528)"
      ]
     },
     "execution_count": 229,
     "metadata": {},
     "output_type": "execute_result"
    }
   ],
   "source": [
    "calc_rstar(mV,nEst,ua)"
   ]
  },
  {
   "cell_type": "code",
   "execution_count": 287,
   "metadata": {},
   "outputs": [],
   "source": [
    "%run difraciones.py"
   ]
  },
  {
   "cell_type": "code",
   "execution_count": 285,
   "metadata": {},
   "outputs": [
    {
     "data": {
      "text/plain": [
       "12.68929648399353"
      ]
     },
     "execution_count": 285,
     "metadata": {},
     "output_type": "execute_result"
    }
   ],
   "source": [
    "p.figure(7)\n",
    "p.clf()\n",
    "p.imshow(I1f,extent=[-D/2000,D/2000,-D/2000,D/2000])\n",
    "p.gray()\n",
    "p.xlabel('Distance [km]')\n",
    "p.ylabel('Distance [km]')\n",
    "p.xlim([-Lims,Lims])\n",
    "p.ylim([-Lims,Lims])\n",
    "p.title('Finite source pattern, circular: '+tipo+', Radio estrella: '+np.str((R_star/1000))+'[km]') \n",
    "p.figure(8)\n",
    "p.clf()\n",
    "p.imshow(I2f,extent=[-D/2000,D/2000,-D/2000,D/2000])\n",
    "p.gray()\n",
    "p.xlabel('Distance [km]')\n",
    "p.ylabel('Distance [km]')\n",
    "p.xlim([-Lims,Lims])\n",
    "p.ylim([-Lims,Lims])\n",
    "p.title('Finite source pattern, binary: '+tipo+', Radio estrella: '+np.str((R_star/1000))+'[km]') \n",
    "\n",
    "time()-inicio\n",
    "#np.save('CIRCULAR_D3_pattern_D%d.npy'%D, I1s)"
   ]
  },
  {
   "cell_type": "code",
   "execution_count": null,
   "metadata": {},
   "outputs": [],
   "source": [
    "#AGREGAR RUIDO DE POISSON\n",
    "inicio=time()\n",
    "snr=SNR_TAOS2(mV)#Calcular senal a ruido segun TAOS-2\n",
    "I1n=add_ruido(I1f,mV) # Obtener patron de difraccion con ruido \n",
    "I2n=add_ruido(I2f,mV)"
   ]
  },
  {
   "cell_type": "code",
   "execution_count": 109,
   "metadata": {},
   "outputs": [
    {
     "data": {
      "text/plain": [
       "149.1583116054535"
      ]
     },
     "execution_count": 109,
     "metadata": {},
     "output_type": "execute_result"
    }
   ],
   "source": [
    "p.figure(9)\n",
    "p.clf()\n",
    "p.imshow(I1n,extent=[-D/2000,D/2000,-D/2000,D/2000])\n",
    "p.gray()\n",
    "p.xlabel('Distance [km]')\n",
    "p.ylabel('Distance [km]')\n",
    "p.xlim([-Lims,Lims])\n",
    "p.ylim([-Lims,Lims])\n",
    "p.title('Diffraction pattern, circular, noise mV: '+np.str(mV)+', SNR: '+np.str(np.round(snr)))\n",
    "p.figure(10)\n",
    "p.clf()\n",
    "p.imshow(I2n,extent=[-D/2000,D/2000,-D/2000,D/2000])\n",
    "p.gray()\n",
    "p.xlabel('Distance [km]')\n",
    "p.ylabel('Distance [km]')\n",
    "p.xlim([-Lims,Lims])\n",
    "p.ylim([-Lims,Lims])\n",
    "p.title('Diffraction pattern, binary, noise mV: '+np.str(mV)+', SNR: '+np.str(np.round(snr)))\n",
    "\n",
    "time()-inicio"
   ]
  },
  {
   "cell_type": "code",
   "execution_count": null,
   "metadata": {},
   "outputs": [],
   "source": [
    "dat=pd.DataFrame()\n",
    "dat.to_csv('diffKMs.csv')"
   ]
  },
  {
   "cell_type": "code",
   "execution_count": 291,
   "metadata": {},
   "outputs": [
    {
     "data": {
      "text/plain": [
       "Text(0.5, 1.0, 'Binary diffraction profile')"
      ]
     },
     "execution_count": 291,
     "metadata": {},
     "output_type": "execute_result"
    }
   ],
   "source": [
    "#EXTRAER PERFIL DE DIFRACCION ojo T--> grados y b --> metros\n",
    "#b = 0\n",
    "xc,yc=extraer_perfil(I1f,M,D,T,b) #Extraer perfil de difraccion sin ruido\n",
    "xb,yb=extraer_perfil(I2f,M,D,T,b) #Extraer perfil de difraccion con ruido\n",
    "p.figure(11)\n",
    "p.clf()\n",
    "p.plot(xc/1000,yc)\n",
    "p.xlim([-Lims,Lims])\n",
    "#p.xlim([-10/25,10/25])\n",
    "p.xlabel('Distance [km]')\n",
    "p.ylabel('Normalized intensity')\n",
    "p.title('Circular diffraction profile')\n",
    "p.figure(12)\n",
    "p.clf()\n",
    "p.plot(xb/1000,yb)\n",
    "p.xlim([-Lims,Lims])\n",
    "p.xlabel('Distance [km]')\n",
    "p.ylabel('Normalized intensity')\n",
    "p.title('Binary diffraction profile')"
   ]
  },
  {
   "cell_type": "code",
   "execution_count": 25,
   "metadata": {},
   "outputs": [
    {
     "name": "stdout",
     "output_type": "stream",
     "text": [
      "142112.63138792414 5000 20 2 29800 0 45\n"
     ]
    },
    {
     "data": {
      "text/plain": [
       "Text(0, 0.5, 'Normalized intensity')"
      ]
     },
     "execution_count": 25,
     "metadata": {},
     "output_type": "execute_result"
    },
    {
     "data": {
      "image/png": "[encoded data removed]",
      "text/plain": [
       "<Figure size 432x288 with 1 Axes>"
      ]
     },
     "metadata": {
      "needs_background": "light"
     },
     "output_type": "display_data"
    },
    {
     "data": {
      "image/png": "[encoded data removed]",
      "text/plain": [
       "<Figure size 432x288 with 1 Axes>"
      ]
     },
     "metadata": {
      "needs_background": "light"
     },
     "output_type": "display_data"
    }
   ],
   "source": [
    "#MUESTREAR SEGUN PARAMETROS CONOCIDOS DEFINIDOS AL PRINCIPIO\n",
    "toffset=2\n",
    "ang=0\n",
    "print(D,vr,fps,toffset,vE,ang,ua)\n",
    "x1,y1,x2,y2=muestreos(y,D,vr,fps,toffset,vE,ang,ua) #fUNCION PARA MUESTREAR genera dos tuplas\n",
    "p.figure(10)\n",
    "p.clf()\n",
    "p.plot(x1,y1)\n",
    "p.xlabel('Time [s]')\n",
    "p.ylabel('Normalized intensity')\n",
    "p.xlim([-1,1])\n",
    "#p.savefig('test.png')\n",
    "dat=pd.DataFrame(y1,x1)\n",
    "#dat.to_csv('CB_D10_pattern_b%d.csv'% (b/1000) )\n",
    "\n",
    "p.figure(11)\n",
    "p.clf()\n",
    "p.plot(x2,y2)\n",
    "p.xlabel('Time [s]')\n",
    "p.ylabel('Normalized intensity')"
   ]
  },
  {
   "cell_type": "code",
   "execution_count": null,
   "metadata": {},
   "outputs": [],
   "source": []
  },
  {
   "cell_type": "code",
   "execution_count": null,
   "metadata": {},
   "outputs": [],
   "source": []
  }
 ],
 "metadata": {
  "kernelspec": {
   "display_name": "Python 3",
   "language": "python",
   "name": "python3"
  },
  "language_info": {
   "codemirror_mode": {
    "name": "ipython",
    "version": 3
   },
   "file_extension": ".py",
   "mimetype": "text/x-python",
   "name": "python",
   "nbconvert_exporter": "python",
   "pygments_lexer": "ipython3",
   "version": "3.7.4"
  }
 },
 "nbformat": 4,
 "nbformat_minor": 1
}
