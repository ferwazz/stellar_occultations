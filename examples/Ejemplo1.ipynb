{
 "cells": [
  {
   "cell_type": "code",
   "execution_count": 2,
   "metadata": {},
   "outputs": [],
   "source": [
    "%run difraciones.py #Cargar las librerias"
   ]
  },
  {
   "cell_type": "code",
   "execution_count": 3,
   "metadata": {},
   "outputs": [],
   "source": [
    "import matplotlib\n",
    "matplotlib.use('Qt4Agg')\n",
    "import matplotlib.pyplot as p\n",
    "from time import time\n",
    "#p.switch_backend('QtAgg4')\n",
    "#%matplotlib qt\n",
    "#Figuras fuera del notebook"
   ]
  },
  {
   "cell_type": "raw",
   "metadata": {},
   "source": [
    "# Definiendo parametros iniciales"
   ]
  },
  {
   "cell_type": "markdown",
   "metadata": {},
   "source": [
    "Este código requiere importar:\n",
    "numpy, matplotlib, pandas, time y Jupyter Notebook\n",
    "\n",
    "Los archivos incluidos son:\n",
    "difraciones.py --> contiene la libreria (funciones) para ejecutar el simulador\n",
    "estrellas.dat --> contiene datos propios del tipo espectral de la estrella: luminosidad, temperatura y magnitud absoluta.\n",
    "listadat.txt --> contiene en forma ordenada el nombre del archivo que describe la convolucion del filtro y la emision espectral de la estrella (Ojo para TAOS-1)\n",
    "folder \"spectra\" --> contiene todos los archivos de convoluciones  de la emision estelar y el filtro de TAOS-1 "
   ]
  },
  {
   "cell_type": "code",
   "execution_count": 4,
   "metadata": {},
   "outputs": [],
   "source": [
    "#Parametros basicos para el calculo\n",
    "M=4096 # Tamano de la malla en [px] 2048\n",
    "lamb=600e-9 # Long de onda en [m]\n",
    "\n",
    "\n",
    "#Parametros de la observacion (conocidos a Priori)\n",
    "vE=29800 # velocidad de traslacion de la tierra  en m/s\n",
    "vr=5000 #velocidad del cuerpo Pos si va en contra de la direccion de la tierra\n",
    "ang=0 #angulo desde oposicion para calcular velocidad tangencial del objeto\n",
    "fps=20 #frames por segundo\n",
    "mV=15 # Mad=gnitud aparente de la estrella\n",
    "nEst=29 #Seleccion de tipo espectral de estrella\n",
    "#A0=1;A1=2;A2=3;A3=4;A4=5;A5=6;A7=7;F0=8;F2=9;F3=10;F5=11;F6=12;F7=13;F8=14\n",
    "#G0=15;G1=16;G2=17;G5=18;G8=19;K0=20;K1=21;K2=22;K3=23;K4=24;K5=25;K7=26;\n",
    "#M0=27;M1=28;M2=29;M3=30;M4=31;M5=32;M6=33;M7=34;M8=35\n",
    "nLamb=10 # Num de longitudes de onda a considerar para el calculo espectral spectra()\n",
    "\n",
    "\n",
    "#Parametros del evento de ocultacion (desconocidos) incluir d\n",
    "d=5000 # Diam del objeto en [m]\n",
    "ua=50 #Distancia del objeto en unidades astronómicas\n",
    "D=calc_plano(d,lamb,ua) #Tamano del plano total en [m]\n",
    "toffset=0 #en pixeles\n",
    "T=0 # direccion de lectura en grados\n",
    "b=0 # Parametro de impacto en metros\n"
   ]
  },
  {
   "cell_type": "markdown",
   "metadata": {},
   "source": [
    "CALCULOS INICIALES PARA DEFINIR OBJETOS Y SU PATRON DE DIFRACCION BASICO"
   ]
  },
  {
   "cell_type": "code",
   "execution_count": 5,
   "metadata": {},
   "outputs": [
    {
     "data": {
      "text/plain": [
       "5.929555416107178"
      ]
     },
     "execution_count": 5,
     "metadata": {},
     "output_type": "execute_result"
    }
   ],
   "source": [
    "inicio=time()\n",
    "#Definiendo objetos\n",
    "O1=pupilCO(M,D,d) #Objeto 1: circular\n",
    "O2=pupil_doble(M,D,d) #Objeto 2: contact binary\n",
    "z=1.496e11*ua #Distancia del objeto en [m]\n",
    "I1=fresnel(O1,M,D,z,lamb) #Patron 1 de difraccion monocromatico con fuente puntual\n",
    "I2=fresnel(O2,M,D,z,lamb) #Patron 2 de difraccion monocromatico con fuente puntual\n",
    "#I0=add_ruido(I0,mV)\n",
    "time()-inicio"
   ]
  },
  {
   "cell_type": "code",
   "execution_count": null,
   "metadata": {
    "collapsed": true
   },
   "outputs": [],
   "source": [
    "GRAFICAR RESULTADOS"
   ]
  },
  {
   "cell_type": "code",
   "execution_count": 7,
   "metadata": {},
   "outputs": [
    {
     "data": {
      "text/plain": [
       "Text(0.5, 1.0, 'Patron de difraccion, objeto binario')"
      ]
     },
     "execution_count": 7,
     "metadata": {},
     "output_type": "execute_result"
    }
   ],
   "source": [
    "#Objeto Circular\n",
    "p.figure(1)\n",
    "p.clf()\n",
    "p.imshow(O1,extent=[-D/2000,D/2000,-D/2000,D/2000])\n",
    "p.xlabel('Distance [km]')\n",
    "p.ylabel('Distance [km]')\n",
    "p.gray()\n",
    "p.title('Objeto Circular')\n",
    "\n",
    "p.figure(2)\n",
    "p.clf()\n",
    "p.imshow(I1,extent=[-D/2000,D/2000,-D/2000,D/2000])\n",
    "p.gray()\n",
    "p.xlabel('Distance [km]')\n",
    "p.ylabel('Distance [km]')\n",
    "p.title('Patron de difraccion, objeto circular')\n",
    "\n",
    "#Objeto no circular\n",
    "p.figure(3)\n",
    "p.clf()\n",
    "p.imshow(O2,extent=[-D/2000,D/2000,-D/2000,D/2000])\n",
    "p.xlabel('Distance [km]')\n",
    "p.ylabel('Distance [km]')\n",
    "p.gray()\n",
    "p.title('Objeto Binario')\n",
    "\n",
    "p.figure(4)\n",
    "p.clf()\n",
    "p.imshow(I2,extent=[-D/2000,D/2000,-D/2000,D/2000])\n",
    "p.gray()\n",
    "p.xlabel('Distance [km]')\n",
    "p.ylabel('Distance [km]')\n",
    "p.title('Patron de difraccion, objeto binario')"
   ]
  },
  {
   "cell_type": "code",
   "execution_count": null,
   "metadata": {},
   "outputs": [],
   "source": []
  },
  {
   "cell_type": "code",
   "execution_count": 8,
   "metadata": {},
   "outputs": [
    {
     "data": {
      "text/plain": [
       "22.70875644683838"
      ]
     },
     "execution_count": 8,
     "metadata": {},
     "output_type": "execute_result"
    }
   ],
   "source": [
    "#CALCULAR PATRON CON CONTRIBUCION ESPECTRAL y GRAFICAR\n",
    "inicio=time()\n",
    "z=1.496e11*ua #Distancia del objeto en [m]\n",
    "I1s=spectra(O2,M,D,z,nEst,nLamb)#Esta funcion calcula el patron cromatico\n",
    "tipo,R_star=calc_rstar(mV,nEst,ua)#Funcion para calcular el radio y tipo de la estrella usa estrellas.dat\n",
    "p.figure(5)\n",
    "p.clf()\n",
    "p.imshow(I1s,extent=[-D/2000,D/2000,-D/2000,D/2000])\n",
    "p.gray()\n",
    "p.xlabel('Distance [km]')\n",
    "p.ylabel('Distance [km]')\n",
    "p.title('Patron de difraccion cromatico: '+tipo+', Longs. Onda: '+np.str(np.round(nLamb))) \n",
    "time()-inicio"
   ]
  },
  {
   "cell_type": "code",
   "execution_count": 9,
   "metadata": {},
   "outputs": [
    {
     "data": {
      "text/plain": [
       "0.12366199493408203"
      ]
     },
     "execution_count": 9,
     "metadata": {},
     "output_type": "execute_result"
    }
   ],
   "source": [
    "#CALCULAR PATRON PARA FUENTE EXTENDIDA\n",
    "inicio=time()\n",
    "z=1.496e11*ua #Distancia del objeto en [m]\n",
    "tipo,R_star=calc_rstar(mV,nEst,ua)#Funcion para calcular el radio de la estrella usa estrellas.dat\n",
    "I1f=promedio_PD(I1,R_star,D,M,d) #Funcion para calcular contribucion de fuente extendida\n",
    "p.figure(6)\n",
    "p.clf()\n",
    "p.imshow(I1f,extent=[-D/2000,D/2000,-D/2000,D/2000])\n",
    "p.gray()\n",
    "p.xlabel('Distance [km]')\n",
    "p.ylabel('Distance [km]')\n",
    "p.title('Patron de difraccion con fuente extendida: '+tipo+', Radio estrella: '+np.str(np.round(R_star/1000))+'[km]') \n",
    "time()-inicio\n"
   ]
  },
  {
   "cell_type": "code",
   "execution_count": 15,
   "metadata": {},
   "outputs": [
    {
     "data": {
      "text/plain": [
       "4155.823928343271"
      ]
     },
     "execution_count": 15,
     "metadata": {},
     "output_type": "execute_result"
    }
   ],
   "source": [
    "R_star"
   ]
  },
  {
   "cell_type": "code",
   "execution_count": 10,
   "metadata": {},
   "outputs": [
    {
     "data": {
      "text/plain": [
       "0.9236199855804443"
      ]
     },
     "execution_count": 10,
     "metadata": {},
     "output_type": "execute_result"
    }
   ],
   "source": [
    "#AGREGAR RUIDO DE POISSON\n",
    "inicio=time()\n",
    "snr=SNR_TAOS2(mV)#Calcular senal a ruido segun TAOS-2\n",
    "I1n=add_ruido(I1,mV) # Obtener patron de difraccion con ruido \n",
    "p.figure(7)\n",
    "p.clf()\n",
    "p.imshow(I1n,extent=[-D/2000,D/2000,-D/2000,D/2000])\n",
    "p.gray()\n",
    "p.xlabel('Distance [km]')\n",
    "p.ylabel('Distance [km]')\n",
    "p.title('Patron de difraccion con ruido mV: '+np.str(mV)+', SNR: '+np.str(np.round(snr)))\n",
    "\n",
    "time()-inicio"
   ]
  },
  {
   "cell_type": "code",
   "execution_count": 11,
   "metadata": {},
   "outputs": [
    {
     "data": {
      "text/plain": [
       "Text(0, 0.5, 'Normalized intensity')"
      ]
     },
     "execution_count": 11,
     "metadata": {},
     "output_type": "execute_result"
    }
   ],
   "source": [
    "#EXTRAER PERFIL DE DIFRACCION ojo T--> grados y b --> metros\n",
    "x,y=extraer_perfil(I2,M,D,0,0) #Extraer perfil de difraccion sin ruido\n",
    "xn,yn=extraer_perfil(I1n,M,D,T,b) ##Extraer perfil de difraccion con ruido\n",
    "p.figure(8)\n",
    "p.clf()\n",
    "p.plot(x/1000,y)\n",
    "p.xlabel('Distance [km]')\n",
    "p.ylabel('Normalized intensity')\n",
    "p.figure(9)\n",
    "\n",
    "p.clf()\n",
    "p.plot(xn/1000,yn)\n",
    "p.xlabel('Distance [km]')\n",
    "p.ylabel('Normalized intensity')"
   ]
  },
  {
   "cell_type": "code",
   "execution_count": 241,
   "metadata": {},
   "outputs": [
    {
     "data": {
      "text/plain": [
       "Text(0, 0.5, 'Normalized intensity')"
      ]
     },
     "execution_count": 241,
     "metadata": {},
     "output_type": "execute_result"
    }
   ],
   "source": [
    "#MUESTREAR SEGUN PARAMETROS CONOCIDOS DEFINIDOS AL PRINCIPIO\n",
    "x1,y1,x2,y2=muestreos(y,D,vr,fps,toffset,vE,ang,ua) #fUNCION PARA MUESTREAR genera dos tuplas\n",
    "p.figure(10)\n",
    "p.clf()\n",
    "p.plot(x1,y1)\n",
    "p.xlabel('Time [s]')\n",
    "p.ylabel('Normalized intensity')\n",
    "p.figure(11)\n",
    "p.clf()\n",
    "p.plot(x2,y2)\n",
    "p.xlabel('Time [s]')\n",
    "p.ylabel('Normalized intensity')\n"
   ]
  },
  {
   "cell_type": "code",
   "execution_count": 21,
   "metadata": {},
   "outputs": [],
   "source": [
    "#Grabar datos en csv\n",
    "dat=pd.DataFrame(y,x)\n",
    "dat.to_csv('diffKMs.csv')"
   ]
  },
  {
   "cell_type": "code",
   "execution_count": 141,
   "metadata": {},
   "outputs": [
    {
     "data": {
      "text/plain": [
       "24"
      ]
     },
     "execution_count": 141,
     "metadata": {},
     "output_type": "execute_result"
    }
   ],
   "source": [
    "np.size(inpks)"
   ]
  },
  {
   "cell_type": "code",
   "execution_count": 242,
   "metadata": {},
   "outputs": [],
   "source": [
    "#buscando picos con la derivada\n",
    "yp=np.diff(y)  #derivada de la ocultacion "
   ]
  },
  {
   "cell_type": "code",
   "execution_count": 282,
   "metadata": {},
   "outputs": [],
   "source": [
    "p.figure(97)\n",
    "p.clf()\n",
    "cyp=abs(yp)<0.005 # convertir 0s en 1s de la derivada\n",
    "p.plot(x[1:],cyp) #ploteando la derivada y la curva original\n",
    "p.plot(x[1:],y[1:])\n",
    "p.plot(x[1:],yp)\n",
    "p.show()"
   ]
  },
  {
   "cell_type": "code",
   "execution_count": 129,
   "metadata": {},
   "outputs": [
    {
     "data": {
      "text/plain": [
       "array([[0.64632352, 0.64766735, 0.58301065, 0.58003916, 0.58020444,\n",
       "        0.58274643, 0.5865183 , 0.59001958, 0.59163843, 0.02591606,\n",
       "        0.02227879, 0.01936817, 0.01667919, 0.01398277, 0.01132283,\n",
       "        0.00899072, 0.00745953, 0.0073032 , 0.00910161, 0.13515522,\n",
       "        0.13763087, 0.01291788, 0.0113826 , 0.79727153]])"
      ]
     },
     "execution_count": 129,
     "metadata": {},
     "output_type": "execute_result"
    }
   ],
   "source": [
    "xin=np.where(abs(x)<2500) # seleccionar solo la region de la ocultacion\n",
    "xin2=np.array(xin) # convertir los indices (tuple) en arreglo de numpy\n",
    "indx=np.where(cyp[xin]==1) # buscar los 1s en el rango establecido (xin)\n",
    "#np.shape(xin2)\n",
    "inpks=xin2[0,0]+indx # estos son los indices donde están los picos\n",
    "\n",
    "#x[inpks] # valor de x\n",
    "#cyp[inpks]  # unos\n",
    "y[inpks]  #  valor en la curva de ocultacion\n",
    "#print(xin[0,0])"
   ]
  },
  {
   "cell_type": "code",
   "execution_count": 130,
   "metadata": {
    "collapsed": true
   },
   "outputs": [
    {
     "data": {
      "text/plain": [
       "[<matplotlib.lines.Line2D at 0x7f0240478390>,\n",
       " <matplotlib.lines.Line2D at 0x7f02404137d0>,\n",
       " <matplotlib.lines.Line2D at 0x7f0240413090>,\n",
       " <matplotlib.lines.Line2D at 0x7f0240413fd0>,\n",
       " <matplotlib.lines.Line2D at 0x7f0240413990>,\n",
       " <matplotlib.lines.Line2D at 0x7f02403bfd50>,\n",
       " <matplotlib.lines.Line2D at 0x7f02403bf6d0>,\n",
       " <matplotlib.lines.Line2D at 0x7f02403bfb50>,\n",
       " <matplotlib.lines.Line2D at 0x7f0240413610>,\n",
       " <matplotlib.lines.Line2D at 0x7f02403bf710>,\n",
       " <matplotlib.lines.Line2D at 0x7f0240260110>,\n",
       " <matplotlib.lines.Line2D at 0x7f0240a899d0>,\n",
       " <matplotlib.lines.Line2D at 0x7f0240a89550>,\n",
       " <matplotlib.lines.Line2D at 0x7f024045a110>,\n",
       " <matplotlib.lines.Line2D at 0x7f024045a290>,\n",
       " <matplotlib.lines.Line2D at 0x7f024045a250>,\n",
       " <matplotlib.lines.Line2D at 0x7f024045a850>,\n",
       " <matplotlib.lines.Line2D at 0x7f024045a910>,\n",
       " <matplotlib.lines.Line2D at 0x7f024045a2d0>,\n",
       " <matplotlib.lines.Line2D at 0x7f024045a150>,\n",
       " <matplotlib.lines.Line2D at 0x7f024044e150>,\n",
       " <matplotlib.lines.Line2D at 0x7f024044ed10>,\n",
       " <matplotlib.lines.Line2D at 0x7f024044e110>,\n",
       " <matplotlib.lines.Line2D at 0x7f024044e4d0>]"
      ]
     },
     "execution_count": 130,
     "metadata": {},
     "output_type": "execute_result"
    }
   ],
   "source": [
    "p.figure(98)\n",
    "p.clf()\n",
    "p.plot(x[inpks],y[inpks])"
   ]
  },
  {
   "cell_type": "code",
   "execution_count": 1,
   "metadata": {},
   "outputs": [],
   "source": [
    "%run difraciones.py"
   ]
  },
  {
   "cell_type": "code",
   "execution_count": 284,
   "metadata": {},
   "outputs": [
    {
     "data": {
      "text/plain": [
       "'/home/joelhcch/Documents/2019/TAOS-II/KBOShape/Python_Simulador'"
      ]
     },
     "execution_count": 284,
     "metadata": {},
     "output_type": "execute_result"
    }
   ],
   "source": [
    "pwd"
   ]
  },
  {
   "cell_type": "code",
   "execution_count": 29,
   "metadata": {},
   "outputs": [],
   "source": [
    "Ind,Vals=buscar_picos(x,y,D=d)\n"
   ]
  },
  {
   "cell_type": "code",
   "execution_count": 30,
   "metadata": {},
   "outputs": [
    {
     "data": {
      "text/plain": [
       "array([0.64766735, 0.58301065, 0.02591606, 0.13515522, 0.01291788,\n",
       "       0.79727153])"
      ]
     },
     "execution_count": 30,
     "metadata": {},
     "output_type": "execute_result"
    }
   ],
   "source": [
    "Vals"
   ]
  },
  {
   "cell_type": "code",
   "execution_count": 32,
   "metadata": {},
   "outputs": [
    {
     "data": {
      "text/plain": [
       "array([ 256.06814784,  987.6914274 ,  731.62327955,  438.97396773,\n",
       "       1060.85375535])"
      ]
     },
     "execution_count": 32,
     "metadata": {},
     "output_type": "execute_result"
    }
   ],
   "source": [
    "np.diff(x[Ind])"
   ]
  },
  {
   "cell_type": "code",
   "execution_count": 31,
   "metadata": {},
   "outputs": [
    {
     "data": {
      "text/plain": [
       "[<matplotlib.lines.Line2D at 0x7f2de99a2f10>]"
      ]
     },
     "execution_count": 31,
     "metadata": {},
     "output_type": "execute_result"
    }
   ],
   "source": [
    "p.figure(97)\n",
    "p.clf()\n",
    "p.plot(x,y)\n",
    "p.plot(x[Ind],y[Ind],'*')"
   ]
  },
  {
   "cell_type": "code",
   "execution_count": null,
   "metadata": {},
   "outputs": [],
   "source": []
  }
 ],
 "metadata": {
  "kernelspec": {
   "display_name": "Python 3",
   "language": "python",
   "name": "python3"
  },
  "language_info": {
   "codemirror_mode": {
    "name": "ipython",
    "version": 3
   },
   "file_extension": ".py",
   "mimetype": "text/x-python",
   "name": "python",
   "nbconvert_exporter": "python",
   "pygments_lexer": "ipython3",
   "version": "3.7.4"
  }
 },
 "nbformat": 4,
 "nbformat_minor": 1
}
